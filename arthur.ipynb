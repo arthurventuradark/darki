{
  "nbformat": 4,
  "nbformat_minor": 0,
  "metadata": {
    "colab": {
      "provenance": [],
      "toc_visible": true,
      "authorship_tag": "ABX9TyPHeNQ9NYNuIfLDJJXkIkZ0",
      "include_colab_link": true
    },
    "kernelspec": {
      "name": "python3",
      "display_name": "Python 3"
    },
    "language_info": {
      "name": "python"
    }
  },
  "cells": [
    {
      "cell_type": "markdown",
      "metadata": {
        "id": "view-in-github",
        "colab_type": "text"
      },
      "source": [
        "<a href=\"https://colab.research.google.com/github/arthurventuradark/darki/blob/main/arthur.ipynb\" target=\"_parent\"><img src=\"https://colab.research.google.com/assets/colab-badge.svg\" alt=\"Open In Colab\"/></a>"
      ]
    },
    {
      "cell_type": "markdown",
      "source": [],
      "metadata": {
        "id": "ULHq4swDbJ6F"
      }
    },
    {
      "cell_type": "markdown",
      "source": [],
      "metadata": {
        "id": "8MiA1_--y2zI"
      }
    },
    {
      "cell_type": "markdown",
      "source": [
        "## primeiro codigo"
      ],
      "metadata": {
        "id": "JcbaneuHgja4"
      }
    },
    {
      "cell_type": "code",
      "execution_count": 13,
      "metadata": {
        "id": "p_fYXJTmzMUW",
        "colab": {
          "base_uri": "https://localhost:8080/"
        },
        "outputId": "ca9d1db9-afd8-4940-979e-6b2bb5123c49"
      },
      "outputs": [
        {
          "output_type": "stream",
          "name": "stdout",
          "text": [
            "1 simulado de debate da onu parana\n"
          ]
        }
      ],
      "source": [
        "print(\"1 simulado de debate da onu parana\")"
      ]
    },
    {
      "cell_type": "code",
      "source": [
        "ano =\"2\"\n",
        "print(ano, \"simulado de debate da onu parana\")"
      ],
      "metadata": {
        "colab": {
          "base_uri": "https://localhost:8080/"
        },
        "id": "WA1nhlrnciID",
        "outputId": "96d6b019-d529-44d1-ba0e-938f82c211c3"
      },
      "execution_count": 14,
      "outputs": [
        {
          "output_type": "stream",
          "name": "stdout",
          "text": [
            "2 simulado de debate da onu parana\n"
          ]
        }
      ]
    },
    {
      "cell_type": "code",
      "source": [
        "print(f\"{ano} simulado de debate da onu no parana\")"
      ],
      "metadata": {
        "colab": {
          "base_uri": "https://localhost:8080/"
        },
        "id": "hiylN-HvdPUf",
        "outputId": "ddb37349-c932-47a0-9dcf-6b84c48cb45a"
      },
      "execution_count": 15,
      "outputs": [
        {
          "output_type": "stream",
          "name": "stdout",
          "text": [
            "2 simulado de debate da onu no parana\n"
          ]
        }
      ]
    },
    {
      "cell_type": "code",
      "source": [
        "local = \"sao paulo \"\n",
        "print(local, \"simulado de debate da onu\")"
      ],
      "metadata": {
        "colab": {
          "base_uri": "https://localhost:8080/"
        },
        "id": "MUliC2oYexMy",
        "outputId": "8c4326d0-dd99-46e6-9a9e-6a5cbcffc3aa"
      },
      "execution_count": 16,
      "outputs": [
        {
          "output_type": "stream",
          "name": "stdout",
          "text": [
            "sao paulo  simulado de debate da onu\n"
          ]
        }
      ]
    },
    {
      "cell_type": "code",
      "source": [
        "print(f\"{local}2 simulado de debate da onu\")"
      ],
      "metadata": {
        "colab": {
          "base_uri": "https://localhost:8080/"
        },
        "id": "ej0PDuuSe_6o",
        "outputId": "3a7eb1a5-756c-4e1c-b33f-38965b16020d"
      },
      "execution_count": 17,
      "outputs": [
        {
          "output_type": "stream",
          "name": "stdout",
          "text": [
            "sao paulo 2 simulado de debate da onu\n"
          ]
        }
      ]
    },
    {
      "cell_type": "markdown",
      "source": [
        "'## segundo codigo"
      ],
      "metadata": {
        "id": "VLCANhXigqcX"
      }
    },
    {
      "cell_type": "code",
      "source": [
        " discurso_fala = 1\n",
        "discurso_tempo_perfeito = 3\n",
        "discurso_bom_disdiscurso_falacurso = 2\n",
        "\n",
        "pontos_australia = discurso_fala + discurso_bom_discurso\n",
        "print(f\"pontos totais do pais australia = {pontos_australia}\")\n",
        "\n",
        "\n"
      ],
      "metadata": {
        "id": "NgH7K9d_hKDM",
        "colab": {
          "base_uri": "https://localhost:8080/"
        },
        "outputId": "58bc7fe8-248c-48f3-882f-71f608653389"
      },
      "execution_count": 18,
      "outputs": [
        {
          "output_type": "stream",
          "name": "stdout",
          "text": [
            "pontos totais do pais australia = 3\n"
          ]
        }
      ]
    },
    {
      "cell_type": "code",
      "source": [
        "pontos_da_groelandia = discurso_bom_discurso + discurso_tempo_perfeito + discurso_fala\n",
        "print(f\"pontos totais da groelandia = {pontos_da_groelandia}\")"
      ],
      "metadata": {
        "colab": {
          "base_uri": "https://localhost:8080/"
        },
        "id": "xG5R7eijWKN8",
        "outputId": "109107ac-ed0e-491d-f023-641ad2d9167b"
      },
      "execution_count": 19,
      "outputs": [
        {
          "output_type": "stream",
          "name": "stdout",
          "text": [
            "pontos totais da groelandia = 6\n"
          ]
        }
      ]
    },
    {
      "cell_type": "markdown",
      "source": [
        "## terceiro codigo\n",
        "\n",
        "> Adicionar aspas\n",
        "\n"
      ],
      "metadata": {
        "id": "jCAl8LrFXb1w"
      }
    },
    {
      "cell_type": "code",
      "source": [
        "print(\"brindes do simulado do debate da onu\")\n",
        "pontos_australia = 3\n",
        "pontos_da_groelandia = 6\n",
        "boneco_max = 2\n",
        "copo = 3\n",
        "pratos = 2\n",
        "pontos_da_groelandia = pontos_da_groelandia - boneco_max\n",
        "print(f\"pontos da greolandia depois dos brindes = {pontos_da_groelandia}\")\n",
        "pontos_australia = pontos_australia - copo\n",
        "print(f\"pontos da australia depois dos brindes = {pontos_australia}\")"
      ],
      "metadata": {
        "colab": {
          "base_uri": "https://localhost:8080/"
        },
        "id": "q3kPsgN8Xihi",
        "outputId": "97ba1243-00fc-45ac-dbd2-d739119a2af8"
      },
      "execution_count": 20,
      "outputs": [
        {
          "output_type": "stream",
          "name": "stdout",
          "text": [
            "brindes do simulado do debate da onu\n",
            "pontos da greolandia depois dos brindes = 4\n",
            "pontos da australia depois dos brindes = 0\n"
          ]
        }
      ]
    },
    {
      "cell_type": "markdown",
      "source": [
        "##conclusao"
      ],
      "metadata": {
        "id": "WPOk7jgZzpBx"
      }
    },
    {
      "cell_type": "code",
      "source": [
        "print(f\"{local}2 simulado de debate da onu\")\n",
        "\n",
        "discurso_fala = 1\n",
        "discurso_tempo_perfeito = 3\n",
        "discurso_bom_discurso = 2\n",
        "pontos_australia = discurso_fala + discurso_bom_discurso\n",
        "print(f\"pontos totais do pais australia = {pontos_australia}\")\n",
        "pontos_da_groelandia = discurso_bom_discurso + discurso_tempo_perfeito + discurso_fala\n",
        "print(f\"pontos totais da groelandia = {pontos_da_groelandia}\")\n",
        "print(\"brindes do simulado do debate da onu\")\n",
        "pontos_australia = 3\n",
        "pontos_da_groelandia = 6\n",
        "boneco_max = 2\n",
        "copo = 3\n",
        "pratos = 2\n",
        "pontos_da_groelandia = pontos_da_groelandia - boneco_max\n",
        "print(f\"pontos da greolandia depois dos brindes = {pontos_da_groelandia}\")\n",
        "pontos_australia = pontos_australia - copo\n",
        "print(f\"pontos da australia depois dos brindes = {pontos_australia}\")\n",
        "print(\"brindes que a greolandia pegou : um boneco max\")\n",
        "print(\"brindes que a australia pegou : um copo\")"
      ],
      "metadata": {
        "colab": {
          "base_uri": "https://localhost:8080/"
        },
        "id": "SiD0QS2Wy5A2",
        "outputId": "5de48bce-70e6-413d-d021-ffe3b552e5f6"
      },
      "execution_count": 22,
      "outputs": [
        {
          "output_type": "stream",
          "name": "stdout",
          "text": [
            "sao paulo 2 simulado de debate da onu\n",
            "pontos totais do pais australia = 3\n",
            "pontos totais da groelandia = 6\n",
            "brindes do simulado do debate da onu\n",
            "pontos da greolandia depois dos brindes = 4\n",
            "pontos da australia depois dos brindes = 0\n",
            "brindes que a greolandia pegou : um boneco max\n",
            "brindes que a australia pegou : um copo\n"
          ]
        }
      ]
    }
  ]
}